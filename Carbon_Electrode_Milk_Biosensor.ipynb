{
  "nbformat": 4,
  "nbformat_minor": 0,
  "metadata": {
    "colab": {
      "provenance": [],
      "gpuType": "T4",
      "include_colab_link": true
    },
    "kernelspec": {
      "name": "python3",
      "display_name": "Python 3"
    },
    "language_info": {
      "name": "python"
    },
    "accelerator": "GPU",
    "gpuClass": "standard"
  },
  "cells": [
    {
      "cell_type": "markdown",
      "metadata": {
        "id": "view-in-github",
        "colab_type": "text"
      },
      "source": [
        "<a href=\"https://colab.research.google.com/github/MazedaZ/SNN-for-MNIST-digits-PyTorch/blob/main/Carbon_Electrode_Milk_Biosensor.ipynb\" target=\"_parent\"><img src=\"https://colab.research.google.com/assets/colab-badge.svg\" alt=\"Open In Colab\"/></a>"
      ]
    },
    {
      "cell_type": "markdown",
      "source": [
        "Classifying fresh milk measurement with CarbonElectrodesMilkBiosensors Data"
      ],
      "metadata": {
        "id": "GAzUAvJYppLD"
      }
    },
    {
      "cell_type": "markdown",
      "source": [
        "# Import all the library"
      ],
      "metadata": {
        "id": "s_cLqLHfM3WR"
      }
    },
    {
      "cell_type": "code",
      "source": [
        "import pandas as pd\n",
        "from sklearn.model_selection import train_test_split\n",
        "from sklearn.cluster import KMeans\n",
        "from sklearn.metrics import silhouette_score\n",
        "from sklearn.metrics import accuracy_score\n",
        "from sklearn.neighbors import KNeighborsClassifier"
      ],
      "metadata": {
        "id": "DengcMw4347e"
      },
      "execution_count": null,
      "outputs": []
    },
    {
      "cell_type": "markdown",
      "source": [
        "# Loading Data"
      ],
      "metadata": {
        "id": "y6sNbbH6M-x9"
      }
    },
    {
      "cell_type": "code",
      "source": [
        "data_listeria = pd.read_csv(\"/content/Listeria.csv\")\n",
        "data_NoListeria = pd.read_csv(\"/content/NoListeria.csv\")"
      ],
      "metadata": {
        "id": "OJB697GrM-Ji"
      },
      "execution_count": null,
      "outputs": []
    },
    {
      "cell_type": "code",
      "source": [
        "data_listeria.describe()"
      ],
      "metadata": {
        "colab": {
          "base_uri": "https://localhost:8080/",
          "height": 300
        },
        "id": "n5VnnmhDUMEb",
        "outputId": "c2eb1b78-9b01-4eb9-9d94-da7309c0b7e1"
      },
      "execution_count": null,
      "outputs": [
        {
          "output_type": "execute_result",
          "data": {
            "text/plain": [
              "          -0.0014      0.0091     -0.0075      0.0018     -0.0109      0.0331  \\\n",
              "count  359.000000  359.000000  359.000000  359.000000  359.000000  359.000000   \n",
              "mean     0.149633    0.128569    0.054764    0.110534    0.109605    0.103866   \n",
              "std      0.025686    0.027733    0.017683    0.033807    0.049403    0.039296   \n",
              "min     -0.001500    0.008700   -0.007700   -0.031400   -0.012000    0.022000   \n",
              "25%      0.138000    0.119900    0.049600    0.109350    0.092800    0.084150   \n",
              "50%      0.140700    0.121800    0.058900    0.117400    0.109500    0.105000   \n",
              "75%      0.168450    0.146500    0.064600    0.128350    0.152950    0.143350   \n",
              "max      0.253300    0.231100    0.079200    0.168200    0.293600    0.212700   \n",
              "\n",
              "            0.007      0.0131  target  \n",
              "count  359.000000  359.000000   359.0  \n",
              "mean     0.098221    0.114812     1.0  \n",
              "std      0.038476    0.055137     0.0  \n",
              "min      0.004500    0.009600     1.0  \n",
              "25%      0.093550    0.086600     1.0  \n",
              "50%      0.111200    0.121600     1.0  \n",
              "75%      0.123450    0.167050     1.0  \n",
              "max      0.252200    0.285300     1.0  "
            ],
            "text/html": [
              "\n",
              "  <div id=\"df-d117e55e-5308-414d-b8c0-250c47eaceed\">\n",
              "    <div class=\"colab-df-container\">\n",
              "      <div>\n",
              "<style scoped>\n",
              "    .dataframe tbody tr th:only-of-type {\n",
              "        vertical-align: middle;\n",
              "    }\n",
              "\n",
              "    .dataframe tbody tr th {\n",
              "        vertical-align: top;\n",
              "    }\n",
              "\n",
              "    .dataframe thead th {\n",
              "        text-align: right;\n",
              "    }\n",
              "</style>\n",
              "<table border=\"1\" class=\"dataframe\">\n",
              "  <thead>\n",
              "    <tr style=\"text-align: right;\">\n",
              "      <th></th>\n",
              "      <th>-0.0014</th>\n",
              "      <th>0.0091</th>\n",
              "      <th>-0.0075</th>\n",
              "      <th>0.0018</th>\n",
              "      <th>-0.0109</th>\n",
              "      <th>0.0331</th>\n",
              "      <th>0.007</th>\n",
              "      <th>0.0131</th>\n",
              "      <th>target</th>\n",
              "    </tr>\n",
              "  </thead>\n",
              "  <tbody>\n",
              "    <tr>\n",
              "      <th>count</th>\n",
              "      <td>359.000000</td>\n",
              "      <td>359.000000</td>\n",
              "      <td>359.000000</td>\n",
              "      <td>359.000000</td>\n",
              "      <td>359.000000</td>\n",
              "      <td>359.000000</td>\n",
              "      <td>359.000000</td>\n",
              "      <td>359.000000</td>\n",
              "      <td>359.0</td>\n",
              "    </tr>\n",
              "    <tr>\n",
              "      <th>mean</th>\n",
              "      <td>0.149633</td>\n",
              "      <td>0.128569</td>\n",
              "      <td>0.054764</td>\n",
              "      <td>0.110534</td>\n",
              "      <td>0.109605</td>\n",
              "      <td>0.103866</td>\n",
              "      <td>0.098221</td>\n",
              "      <td>0.114812</td>\n",
              "      <td>1.0</td>\n",
              "    </tr>\n",
              "    <tr>\n",
              "      <th>std</th>\n",
              "      <td>0.025686</td>\n",
              "      <td>0.027733</td>\n",
              "      <td>0.017683</td>\n",
              "      <td>0.033807</td>\n",
              "      <td>0.049403</td>\n",
              "      <td>0.039296</td>\n",
              "      <td>0.038476</td>\n",
              "      <td>0.055137</td>\n",
              "      <td>0.0</td>\n",
              "    </tr>\n",
              "    <tr>\n",
              "      <th>min</th>\n",
              "      <td>-0.001500</td>\n",
              "      <td>0.008700</td>\n",
              "      <td>-0.007700</td>\n",
              "      <td>-0.031400</td>\n",
              "      <td>-0.012000</td>\n",
              "      <td>0.022000</td>\n",
              "      <td>0.004500</td>\n",
              "      <td>0.009600</td>\n",
              "      <td>1.0</td>\n",
              "    </tr>\n",
              "    <tr>\n",
              "      <th>25%</th>\n",
              "      <td>0.138000</td>\n",
              "      <td>0.119900</td>\n",
              "      <td>0.049600</td>\n",
              "      <td>0.109350</td>\n",
              "      <td>0.092800</td>\n",
              "      <td>0.084150</td>\n",
              "      <td>0.093550</td>\n",
              "      <td>0.086600</td>\n",
              "      <td>1.0</td>\n",
              "    </tr>\n",
              "    <tr>\n",
              "      <th>50%</th>\n",
              "      <td>0.140700</td>\n",
              "      <td>0.121800</td>\n",
              "      <td>0.058900</td>\n",
              "      <td>0.117400</td>\n",
              "      <td>0.109500</td>\n",
              "      <td>0.105000</td>\n",
              "      <td>0.111200</td>\n",
              "      <td>0.121600</td>\n",
              "      <td>1.0</td>\n",
              "    </tr>\n",
              "    <tr>\n",
              "      <th>75%</th>\n",
              "      <td>0.168450</td>\n",
              "      <td>0.146500</td>\n",
              "      <td>0.064600</td>\n",
              "      <td>0.128350</td>\n",
              "      <td>0.152950</td>\n",
              "      <td>0.143350</td>\n",
              "      <td>0.123450</td>\n",
              "      <td>0.167050</td>\n",
              "      <td>1.0</td>\n",
              "    </tr>\n",
              "    <tr>\n",
              "      <th>max</th>\n",
              "      <td>0.253300</td>\n",
              "      <td>0.231100</td>\n",
              "      <td>0.079200</td>\n",
              "      <td>0.168200</td>\n",
              "      <td>0.293600</td>\n",
              "      <td>0.212700</td>\n",
              "      <td>0.252200</td>\n",
              "      <td>0.285300</td>\n",
              "      <td>1.0</td>\n",
              "    </tr>\n",
              "  </tbody>\n",
              "</table>\n",
              "</div>\n",
              "      <button class=\"colab-df-convert\" onclick=\"convertToInteractive('df-d117e55e-5308-414d-b8c0-250c47eaceed')\"\n",
              "              title=\"Convert this dataframe to an interactive table.\"\n",
              "              style=\"display:none;\">\n",
              "        \n",
              "  <svg xmlns=\"http://www.w3.org/2000/svg\" height=\"24px\"viewBox=\"0 0 24 24\"\n",
              "       width=\"24px\">\n",
              "    <path d=\"M0 0h24v24H0V0z\" fill=\"none\"/>\n",
              "    <path d=\"M18.56 5.44l.94 2.06.94-2.06 2.06-.94-2.06-.94-.94-2.06-.94 2.06-2.06.94zm-11 1L8.5 8.5l.94-2.06 2.06-.94-2.06-.94L8.5 2.5l-.94 2.06-2.06.94zm10 10l.94 2.06.94-2.06 2.06-.94-2.06-.94-.94-2.06-.94 2.06-2.06.94z\"/><path d=\"M17.41 7.96l-1.37-1.37c-.4-.4-.92-.59-1.43-.59-.52 0-1.04.2-1.43.59L10.3 9.45l-7.72 7.72c-.78.78-.78 2.05 0 2.83L4 21.41c.39.39.9.59 1.41.59.51 0 1.02-.2 1.41-.59l7.78-7.78 2.81-2.81c.8-.78.8-2.07 0-2.86zM5.41 20L4 18.59l7.72-7.72 1.47 1.35L5.41 20z\"/>\n",
              "  </svg>\n",
              "      </button>\n",
              "      \n",
              "  <style>\n",
              "    .colab-df-container {\n",
              "      display:flex;\n",
              "      flex-wrap:wrap;\n",
              "      gap: 12px;\n",
              "    }\n",
              "\n",
              "    .colab-df-convert {\n",
              "      background-color: #E8F0FE;\n",
              "      border: none;\n",
              "      border-radius: 50%;\n",
              "      cursor: pointer;\n",
              "      display: none;\n",
              "      fill: #1967D2;\n",
              "      height: 32px;\n",
              "      padding: 0 0 0 0;\n",
              "      width: 32px;\n",
              "    }\n",
              "\n",
              "    .colab-df-convert:hover {\n",
              "      background-color: #E2EBFA;\n",
              "      box-shadow: 0px 1px 2px rgba(60, 64, 67, 0.3), 0px 1px 3px 1px rgba(60, 64, 67, 0.15);\n",
              "      fill: #174EA6;\n",
              "    }\n",
              "\n",
              "    [theme=dark] .colab-df-convert {\n",
              "      background-color: #3B4455;\n",
              "      fill: #D2E3FC;\n",
              "    }\n",
              "\n",
              "    [theme=dark] .colab-df-convert:hover {\n",
              "      background-color: #434B5C;\n",
              "      box-shadow: 0px 1px 3px 1px rgba(0, 0, 0, 0.15);\n",
              "      filter: drop-shadow(0px 1px 2px rgba(0, 0, 0, 0.3));\n",
              "      fill: #FFFFFF;\n",
              "    }\n",
              "  </style>\n",
              "\n",
              "      <script>\n",
              "        const buttonEl =\n",
              "          document.querySelector('#df-d117e55e-5308-414d-b8c0-250c47eaceed button.colab-df-convert');\n",
              "        buttonEl.style.display =\n",
              "          google.colab.kernel.accessAllowed ? 'block' : 'none';\n",
              "\n",
              "        async function convertToInteractive(key) {\n",
              "          const element = document.querySelector('#df-d117e55e-5308-414d-b8c0-250c47eaceed');\n",
              "          const dataTable =\n",
              "            await google.colab.kernel.invokeFunction('convertToInteractive',\n",
              "                                                     [key], {});\n",
              "          if (!dataTable) return;\n",
              "\n",
              "          const docLinkHtml = 'Like what you see? Visit the ' +\n",
              "            '<a target=\"_blank\" href=https://colab.research.google.com/notebooks/data_table.ipynb>data table notebook</a>'\n",
              "            + ' to learn more about interactive tables.';\n",
              "          element.innerHTML = '';\n",
              "          dataTable['output_type'] = 'display_data';\n",
              "          await google.colab.output.renderOutput(dataTable, element);\n",
              "          const docLink = document.createElement('div');\n",
              "          docLink.innerHTML = docLinkHtml;\n",
              "          element.appendChild(docLink);\n",
              "        }\n",
              "      </script>\n",
              "    </div>\n",
              "  </div>\n",
              "  "
            ]
          },
          "metadata": {},
          "execution_count": 18
        }
      ]
    },
    {
      "cell_type": "code",
      "source": [
        "df = pd.DataFrame(data_listeria)\n",
        "df2 = pd.DataFrame(data_NoListeria)\n",
        "\n",
        "# Write the DataFrame to a CSV file with column names\n",
        "df[\"target\"] = 1\n",
        "df2[\"target\"] = 0\n",
        "df.to_csv('new_listeria.csv', header=['sen-1', 'sen-2', 'sen-3','sen-4','sen-5','sen-6','sen-7','sen-8','target'], index=False)\n",
        "df2.to_csv('new_nolisteria.csv', header=['sen-1', 'sen-2', 'sen-3','sen-4','sen-5','sen-6','sen-7','sen-8','target'], index=False)\n",
        "new_data_listeria = pd.read_csv(\"/content/new_listeria.csv\")\n",
        "new_data_nolisteria = pd.read_csv(\"/content/new_nolisteria.csv\")\n",
        "\n",
        "\n",
        "merged_df = pd.concat([new_data_listeria, new_data_nolisteria])\n",
        "merged_df.to_csv('merged_file.csv', index=False)\n",
        "\n"
      ],
      "metadata": {
        "id": "00lY-7p8OmqS"
      },
      "execution_count": null,
      "outputs": []
    },
    {
      "cell_type": "code",
      "source": [
        "new_data = pd.read_csv(\"/content/merged_file.csv\")\n",
        "new_data"
      ],
      "metadata": {
        "id": "lx8BPH_FXu0Q"
      },
      "execution_count": null,
      "outputs": []
    },
    {
      "cell_type": "code",
      "source": [
        "feature = ['sen-1', 'sen-2', 'sen-3','sen-4','sen-5','sen-6','sen-7','sen-8']\n",
        "target =['target']"
      ],
      "metadata": {
        "id": "tlj5G6yGavtZ"
      },
      "execution_count": null,
      "outputs": []
    },
    {
      "cell_type": "code",
      "source": [
        "new_data= new_data.sample(frac=1).reset_index(drop=True)\n",
        "new_data"
      ],
      "metadata": {
        "id": "lD7DrZ9lbRD5"
      },
      "execution_count": null,
      "outputs": []
    },
    {
      "cell_type": "code",
      "source": [
        "df_x = pd.DataFrame(new_data,columns=feature)\n",
        "df_y = pd.DataFrame(new_data,columns=target)"
      ],
      "metadata": {
        "id": "S-YQZ_TucBEM"
      },
      "execution_count": null,
      "outputs": []
    },
    {
      "cell_type": "code",
      "source": [
        "x_train,x_test,y_train,y_test = train_test_split(df_x,df_y,test_size=0.2,random_state=4)"
      ],
      "metadata": {
        "id": "i48oO1VrcxFb"
      },
      "execution_count": null,
      "outputs": []
    },
    {
      "cell_type": "markdown",
      "source": [
        "# Model train"
      ],
      "metadata": {
        "id": "FR_yUg89ev-P"
      }
    },
    {
      "cell_type": "code",
      "source": [
        "kmeans = KMeans(n_clusters=2, random_state=0, n_init=\"auto\").fit(x_train,y_train)"
      ],
      "metadata": {
        "id": "6gfJJoIedaRI"
      },
      "execution_count": null,
      "outputs": []
    },
    {
      "cell_type": "code",
      "source": [
        "KNN = KNeighborsClassifier(n_neighbors=2)\n",
        "KNN.fit(x_train,y_train.values.ravel())"
      ],
      "metadata": {
        "colab": {
          "base_uri": "https://localhost:8080/",
          "height": 52
        },
        "id": "lPklJt6nibEk",
        "outputId": "b8345a17-fe17-49b7-8394-e70510d38a46"
      },
      "execution_count": null,
      "outputs": [
        {
          "output_type": "execute_result",
          "data": {
            "text/plain": [
              "KNeighborsClassifier(n_neighbors=2)"
            ],
            "text/html": [
              "<style>#sk-container-id-3 {color: black;background-color: white;}#sk-container-id-3 pre{padding: 0;}#sk-container-id-3 div.sk-toggleable {background-color: white;}#sk-container-id-3 label.sk-toggleable__label {cursor: pointer;display: block;width: 100%;margin-bottom: 0;padding: 0.3em;box-sizing: border-box;text-align: center;}#sk-container-id-3 label.sk-toggleable__label-arrow:before {content: \"▸\";float: left;margin-right: 0.25em;color: #696969;}#sk-container-id-3 label.sk-toggleable__label-arrow:hover:before {color: black;}#sk-container-id-3 div.sk-estimator:hover label.sk-toggleable__label-arrow:before {color: black;}#sk-container-id-3 div.sk-toggleable__content {max-height: 0;max-width: 0;overflow: hidden;text-align: left;background-color: #f0f8ff;}#sk-container-id-3 div.sk-toggleable__content pre {margin: 0.2em;color: black;border-radius: 0.25em;background-color: #f0f8ff;}#sk-container-id-3 input.sk-toggleable__control:checked~div.sk-toggleable__content {max-height: 200px;max-width: 100%;overflow: auto;}#sk-container-id-3 input.sk-toggleable__control:checked~label.sk-toggleable__label-arrow:before {content: \"▾\";}#sk-container-id-3 div.sk-estimator input.sk-toggleable__control:checked~label.sk-toggleable__label {background-color: #d4ebff;}#sk-container-id-3 div.sk-label input.sk-toggleable__control:checked~label.sk-toggleable__label {background-color: #d4ebff;}#sk-container-id-3 input.sk-hidden--visually {border: 0;clip: rect(1px 1px 1px 1px);clip: rect(1px, 1px, 1px, 1px);height: 1px;margin: -1px;overflow: hidden;padding: 0;position: absolute;width: 1px;}#sk-container-id-3 div.sk-estimator {font-family: monospace;background-color: #f0f8ff;border: 1px dotted black;border-radius: 0.25em;box-sizing: border-box;margin-bottom: 0.5em;}#sk-container-id-3 div.sk-estimator:hover {background-color: #d4ebff;}#sk-container-id-3 div.sk-parallel-item::after {content: \"\";width: 100%;border-bottom: 1px solid gray;flex-grow: 1;}#sk-container-id-3 div.sk-label:hover label.sk-toggleable__label {background-color: #d4ebff;}#sk-container-id-3 div.sk-serial::before {content: \"\";position: absolute;border-left: 1px solid gray;box-sizing: border-box;top: 0;bottom: 0;left: 50%;z-index: 0;}#sk-container-id-3 div.sk-serial {display: flex;flex-direction: column;align-items: center;background-color: white;padding-right: 0.2em;padding-left: 0.2em;position: relative;}#sk-container-id-3 div.sk-item {position: relative;z-index: 1;}#sk-container-id-3 div.sk-parallel {display: flex;align-items: stretch;justify-content: center;background-color: white;position: relative;}#sk-container-id-3 div.sk-item::before, #sk-container-id-3 div.sk-parallel-item::before {content: \"\";position: absolute;border-left: 1px solid gray;box-sizing: border-box;top: 0;bottom: 0;left: 50%;z-index: -1;}#sk-container-id-3 div.sk-parallel-item {display: flex;flex-direction: column;z-index: 1;position: relative;background-color: white;}#sk-container-id-3 div.sk-parallel-item:first-child::after {align-self: flex-end;width: 50%;}#sk-container-id-3 div.sk-parallel-item:last-child::after {align-self: flex-start;width: 50%;}#sk-container-id-3 div.sk-parallel-item:only-child::after {width: 0;}#sk-container-id-3 div.sk-dashed-wrapped {border: 1px dashed gray;margin: 0 0.4em 0.5em 0.4em;box-sizing: border-box;padding-bottom: 0.4em;background-color: white;}#sk-container-id-3 div.sk-label label {font-family: monospace;font-weight: bold;display: inline-block;line-height: 1.2em;}#sk-container-id-3 div.sk-label-container {text-align: center;}#sk-container-id-3 div.sk-container {/* jupyter's `normalize.less` sets `[hidden] { display: none; }` but bootstrap.min.css set `[hidden] { display: none !important; }` so we also need the `!important` here to be able to override the default hidden behavior on the sphinx rendered scikit-learn.org. See: https://github.com/scikit-learn/scikit-learn/issues/21755 */display: inline-block !important;position: relative;}#sk-container-id-3 div.sk-text-repr-fallback {display: none;}</style><div id=\"sk-container-id-3\" class=\"sk-top-container\"><div class=\"sk-text-repr-fallback\"><pre>KNeighborsClassifier(n_neighbors=2)</pre><b>In a Jupyter environment, please rerun this cell to show the HTML representation or trust the notebook. <br />On GitHub, the HTML representation is unable to render, please try loading this page with nbviewer.org.</b></div><div class=\"sk-container\" hidden><div class=\"sk-item\"><div class=\"sk-estimator sk-toggleable\"><input class=\"sk-toggleable__control sk-hidden--visually\" id=\"sk-estimator-id-3\" type=\"checkbox\" checked><label for=\"sk-estimator-id-3\" class=\"sk-toggleable__label sk-toggleable__label-arrow\">KNeighborsClassifier</label><div class=\"sk-toggleable__content\"><pre>KNeighborsClassifier(n_neighbors=2)</pre></div></div></div></div></div>"
            ]
          },
          "metadata": {},
          "execution_count": 42
        }
      ]
    },
    {
      "cell_type": "code",
      "source": [
        "y_predict =  kmeans.predict(x_test)\n",
        "y_predict\n",
        "knn_predict = KNN.predict(x_test)"
      ],
      "metadata": {
        "id": "QU65osF2fiRV"
      },
      "execution_count": null,
      "outputs": []
    },
    {
      "cell_type": "code",
      "source": [
        "accuracy = accuracy_score(y_test, y_predict)\n",
        "\n",
        "\n",
        "knn_acc = accuracy_score(y_test,knn_predict )\n",
        "print(\"accuracy:\", accuracy)\n",
        "print(\"KNN_accuracy:\", knn_acc)"
      ],
      "metadata": {
        "colab": {
          "base_uri": "https://localhost:8080/"
        },
        "id": "KwOa_pTzf-t4",
        "outputId": "a5614a21-a695-4e66-9684-f44ec2d38fb4"
      },
      "execution_count": null,
      "outputs": [
        {
          "output_type": "stream",
          "name": "stdout",
          "text": [
            "accuracy: 0.4791666666666667\n",
            "KNN_accuracy: 0.9930555555555556\n"
          ]
        }
      ]
    }
  ]
}